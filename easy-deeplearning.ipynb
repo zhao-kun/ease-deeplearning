{
 "cells": [
  {
   "cell_type": "markdown",
   "metadata": {},
   "source": [
    "导入必要的 `numpy` 库"
   ]
  },
  {
   "cell_type": "code",
   "execution_count": null,
   "metadata": {},
   "outputs": [],
   "source": [
    "import numpy as np"
   ]
  },
  {
   "cell_type": "markdown",
   "metadata": {},
   "source": [
    "定义抽象基类 `Layer`，机器相关的接口"
   ]
  },
  {
   "cell_type": "code",
   "execution_count": null,
   "metadata": {},
   "outputs": [],
   "source": [
    "class Layer:\n",
    "    def __init__(self):\n",
    "        pass\n",
    "    \n",
    "    def forward(self, input):\n",
    "        pass\n",
    "\n",
    "    def backward(self, output_gradient, learning_rate):\n",
    "        pass"
   ]
  },
  {
   "cell_type": "markdown",
   "metadata": {},
   "source": [
    "定义类`Dense`, Dense 类中包含两个成员：\n",
    "- *weights*: 权重， 权重是一个二维向量， 其形状是 (output_size, input_size)\n",
    "- *biases*: 偏置， 偏置是一个一维向量， 其形状是 (output_size)\n",
    "\n",
    "Dense 类中主要的方法是\n",
    "- *forward*: 用于计算前向推到\n",
    "- *backward*: 用于做反向传播，调整权重。\n"
   ]
  },
  {
   "cell_type": "code",
   "execution_count": null,
   "metadata": {},
   "outputs": [],
   "source": [
    "class Dense(Layer):\n",
    "    def __init__(self, input_size, output_size):\n",
    "        super().__init__()\n",
    "        self.weights = np.random.randn(output_size, input_size)\n",
    "        self.biases = np.random.randn(output_size, 1)\n",
    "\n",
    "    def forward(self, input):\n",
    "        self.input = input\n",
    "        return np.dot(self.weights, self.input) + self.biases\n",
    "\n",
    "    def backward(self, output_gradient, learning_rate):\n",
    "        weights_gradient = np.dot(output_gradient, self.input.T)\n",
    "        self.biases -= learning_rate * output_gradient\n",
    "        self.weights -= learning_rate * weights_gradient\n",
    "        return np.dot(self.weights.T, output_gradient)\n",
    "\n",
    "    def __repr__(self):\n",
    "        return f'weights {self.weights}\\nbiases {self.biases}\\n'"
   ]
  },
  {
   "cell_type": "code",
   "execution_count": null,
   "metadata": {},
   "outputs": [],
   "source": [
    "def mse(y_true, y_pred):\n",
    "    return np.mean(np.power(y_true - y_pred, 2))\n",
    "\n",
    "def mse_prime(y_true, y_pred):\n",
    "    return 2 * (y_pred - y_true) / np.size(y_true)"
   ]
  },
  {
   "cell_type": "code",
   "execution_count": null,
   "metadata": {},
   "outputs": [],
   "source": [
    "def predict(network, input):\n",
    "    output = input\n",
    "    for layer in network:\n",
    "        #print(f'output.shape {output.shape}, layer {layer}')\n",
    "        output = layer.forward(output)\n",
    "    return output\n",
    "\n",
    "def train(network, loss, loss_prime, x_train, y_train, epochs = 5000, learning_rate = 0.01, interval=100, verbose = True):\n",
    "    for e in range(epochs):\n",
    "        error = 0\n",
    "        for x, y in zip(x_train, y_train):\n",
    "            # forward\n",
    "            output = predict(network, x)\n",
    "            # error\n",
    "            error += loss(y, output)\n",
    "\n",
    "            # backward\n",
    "            grad = loss_prime(y, output)\n",
    "            for layer in reversed(network):\n",
    "                grad = layer.backward(grad, learning_rate)\n",
    "\n",
    "        error /= len(x_train)\n",
    "        if verbose and (e + 1) % interval == 0:\n",
    "            print(f\"{e + 1}/{epochs}, error={error}\")\n",
    "    \n",
    "    print(f\"{epochs}/{epochs}, error={error}\")"
   ]
  },
  {
   "cell_type": "code",
   "execution_count": null,
   "metadata": {},
   "outputs": [],
   "source": [
    "class Activation(Layer):\n",
    "    def __init__(self, activation, activation_prime):\n",
    "        self.activation = activation\n",
    "        self.activation_prime = activation_prime\n",
    "\n",
    "    def forward(self, input):\n",
    "        self.input = input\n",
    "        return self.activation(self.input)\n",
    "\n",
    "    def backward(self, output_gradient, learning_rate):\n",
    "        return np.multiply(output_gradient, self.activation_prime(self.input))\n",
    "\n",
    "class Tanh(Activation):\n",
    "    def __init__(self):\n",
    "        def tanh(x):\n",
    "            return np.tanh(x)\n",
    "\n",
    "        def tanh_prime(x):\n",
    "            return 1 - np.tanh(x) ** 2\n",
    "\n",
    "        super().__init__(tanh, tanh_prime)\n",
    "        \n",
    "    def __repr__(self):\n",
    "        return 'Activation: Tanh\\n'"
   ]
  },
  {
   "cell_type": "code",
   "execution_count": null,
   "metadata": {},
   "outputs": [],
   "source": [
    "network = [\n",
    "    Dense(7,16),\n",
    "    Tanh(),\n",
    "    Dense(16,10),\n",
    "]"
   ]
  },
  {
   "cell_type": "code",
   "execution_count": null,
   "metadata": {},
   "outputs": [],
   "source": [
    "print(network)"
   ]
  },
  {
   "cell_type": "code",
   "execution_count": null,
   "metadata": {},
   "outputs": [],
   "source": [
    "x0 = [1, 1, 1,0 ,1 ,1, 1] #0\n",
    "x1 = [0, 0, 1,0 ,0 ,1, 0] #1\n",
    "x2 = [1, 0, 1,1 ,1 ,0, 1] #2\n",
    "x3 = [1, 0, 1,1 ,0 ,1, 1] #3\n",
    "x4 = [0, 1, 1,1 ,0 ,1, 0] #4\n",
    "x5 = [1, 1, 0,1 ,0 ,1, 1] #5\n",
    "x6 = [1, 1, 0,1 ,1 ,1, 1] #6\n",
    "x7 = [1, 0, 1,0 ,0 ,1, 0] #7\n",
    "x8 = [1, 1, 1,1 ,1 ,1, 1] #8\n",
    "x9 = [1, 1, 1,1 ,0 ,1, 1] #9\n",
    "x_train = [x0, x1, x2, x3, x4, x5, x6, x7, x8, x9]\n",
    "y_train = [[1 if i == j else 0 for i in range(10)] for j in range(10)]\n",
    "\n",
    "x_train = np.array(x_train).reshape(10, 7, 1)\n",
    "y_train = np.array(y_train).reshape(10, 10, 1)"
   ]
  },
  {
   "cell_type": "code",
   "execution_count": null,
   "metadata": {},
   "outputs": [],
   "source": [
    "x_input = np.array(x4).reshape(7,1)\n",
    "output = predict(network, x_input)\n",
    "print(f'Before training, output is: {output}, predict x is :{ np.argmax(output)}')"
   ]
  },
  {
   "cell_type": "code",
   "execution_count": null,
   "metadata": {},
   "outputs": [],
   "source": [
    "train(network, mse, mse_prime, x_train, y_train, epochs = 1000, learning_rate = 0.01, interval=10, verbose = True)"
   ]
  },
  {
   "cell_type": "code",
   "execution_count": null,
   "metadata": {},
   "outputs": [],
   "source": [
    "x_input = np.array(x4).reshape(7,1)\n",
    "output = predict(network, x_input)\n",
    "print(f'output is: {output}, predict x is :{ np.argmax(output)}')"
   ]
  },
  {
   "cell_type": "code",
   "execution_count": null,
   "metadata": {},
   "outputs": [],
   "source": [
    "print(network)"
   ]
  },
  {
   "cell_type": "code",
   "execution_count": null,
   "metadata": {},
   "outputs": [],
   "source": []
  }
 ],
 "metadata": {
  "kernelspec": {
   "display_name": "Python 3 (ipykernel)",
   "language": "python",
   "name": "python3"
  },
  "language_info": {
   "codemirror_mode": {
    "name": "ipython",
    "version": 3
   },
   "file_extension": ".py",
   "mimetype": "text/x-python",
   "name": "python",
   "nbconvert_exporter": "python",
   "pygments_lexer": "ipython3",
   "version": "3.10.13"
  }
 },
 "nbformat": 4,
 "nbformat_minor": 4
}
