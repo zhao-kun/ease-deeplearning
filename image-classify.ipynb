{
 "cells": [
  {
   "cell_type": "markdown",
   "id": "a41cfb07-1073-4dd9-b6b6-3bf22479dabb",
   "metadata": {},
   "source": [
    "### 导入机器学习的相关库"
   ]
  },
  {
   "cell_type": "code",
   "execution_count": null,
   "id": "9e72e025-326d-44c3-ad77-b20b95b905d4",
   "metadata": {},
   "outputs": [],
   "source": [
    "!pip install torch==2.0.1+cu118 torchvision==0.15.2+cu118 torchaudio==2.0.2+cu118 --index-url https://download.pytorch.org/whl/cu118\n",
    "!pip install matplotlib"
   ]
  },
  {
   "cell_type": "code",
   "execution_count": null,
   "id": "b8386dc3-f6e4-4ecf-871a-49361c36bfa0",
   "metadata": {},
   "outputs": [],
   "source": [
    "%matplotlib inline\n",
    "import torch\n",
    "import torchvision\n",
    "from torch.utils import data\n",
    "from torchvision import transforms\n",
    "import matplotlib.pyplot as plt\n",
    "from matplotlib_inline import backend_inline\n",
    "from torch import nn\n",
    "from IPython import display\n"
   ]
  },
  {
   "cell_type": "markdown",
   "id": "e2e46a85-674a-443c-bad3-7dcd4566d791",
   "metadata": {},
   "source": [
    "### 装载数据\n",
    "在这一步，我们会从MNIST 上下载一些训练数据， 这些训练数据包含了人们的着装信息， Fashion-MNIST 数据集是为了一个相对更复杂的图像分类的挑战而被创建的。它遵循与原始 MNIST 集相同的格式，具有 10 个类别和 60,000 张图像，每张 28x28 像素（加上 10,000 张测试图像）。 我们将使用此数据集进行训练。下面的代码提供了数据下载， 并展示数据内容的功能"
   ]
  },
  {
   "cell_type": "markdown",
   "id": "750209dc-b8ea-4219-aed0-5e79bc024e1b",
   "metadata": {},
   "source": [
    "#### 加载数据"
   ]
  },
  {
   "cell_type": "code",
   "execution_count": null,
   "id": "1e8d833b-312a-4924-adb9-010108689c81",
   "metadata": {},
   "outputs": [],
   "source": [
    "# 通过ToTensor实例将图像数据从PIL类型变换成32位浮点数格式，\n",
    "# 并除以255使得所有像素的数值均在0～1之间\n",
    "trans = transforms.ToTensor()\n",
    "mnist_train = torchvision.datasets.FashionMNIST(\n",
    "    root=\"./data\", train=True, transform=trans, download=True)\n",
    "mnist_test = torchvision.datasets.FashionMNIST(\n",
    "    root=\"./data\", train=False, transform=trans, download=True)"
   ]
  },
  {
   "cell_type": "markdown",
   "id": "cebbbdec-8e5f-4556-84b6-6b7d6c54839d",
   "metadata": {},
   "source": [
    "#### 获取数据上的标签信息"
   ]
  },
  {
   "cell_type": "code",
   "execution_count": null,
   "id": "39f4b345-542a-4a7f-8b66-7aad5939ee95",
   "metadata": {},
   "outputs": [],
   "source": [
    "def get_fashion_mnist_labels(labels):  #@save\n",
    "    \"\"\"返回Fashion-MNIST数据集的文本标签\"\"\"\n",
    "    text_labels = ['t-shirt', 'trouser', 'pullover', 'dress', 'coat',\n",
    "                   'sandal', 'shirt', 'sneaker', 'bag', 'ankle boot']\n",
    "    return [text_labels[int(i)] for i in labels]"
   ]
  },
  {
   "cell_type": "markdown",
   "id": "e7f62cae-5de6-4978-a52d-e36f565d6979",
   "metadata": {},
   "source": [
    "#### 显示这些数据和标签"
   ]
  },
  {
   "cell_type": "code",
   "execution_count": null,
   "id": "a7354dc5-ed12-436f-ab5e-91cc1024655d",
   "metadata": {},
   "outputs": [],
   "source": [
    "def show_images(imgs, num_rows, num_cols, titles=None, scale=1.5):  #@save\n",
    "    \"\"\"绘制图像列表\"\"\"\n",
    "    figsize = (num_cols * scale, num_rows * scale)\n",
    "    _, axes = plt.subplots(num_rows, num_cols, figsize=figsize)\n",
    "    axes = axes.flatten()\n",
    "    for i, (ax, img) in enumerate(zip(axes, imgs)):\n",
    "        if torch.is_tensor(img):\n",
    "            # 图片张量\n",
    "            ax.imshow(img.numpy())\n",
    "        else:\n",
    "            # PIL图片\n",
    "            ax.imshow(img)\n",
    "        ax.axes.get_xaxis().set_visible(False)\n",
    "        ax.axes.get_yaxis().set_visible(False)\n",
    "        if titles:\n",
    "            ax.set_title(titles[i])\n",
    "    return axes"
   ]
  },
  {
   "cell_type": "code",
   "execution_count": null,
   "id": "8cdb1bf0-6056-4488-a3b9-9848a026d248",
   "metadata": {},
   "outputs": [],
   "source": [
    "X, y = next(iter(data.DataLoader(mnist_train, batch_size=18)))\n",
    "show_images(X.reshape(18, 28, 28), 2, 9, titles=get_fashion_mnist_labels(y));"
   ]
  },
  {
   "cell_type": "markdown",
   "id": "befa7959-017f-4b45-85b5-522fe07e124e",
   "metadata": {},
   "source": [
    "### 训练模型\n",
    "\n",
    "下面我们利用pytorch提供的基础库， 来构造我们的神经网络并开始训练模型，首先第一步我们需要定义一些帮助我们训练的工具类函数"
   ]
  },
  {
   "cell_type": "code",
   "execution_count": null,
   "id": "5ef6c264-2894-4846-b082-36b3b32a510b",
   "metadata": {},
   "outputs": [],
   "source": [
    "def get_dataloader_workers():  #@save\n",
    "    \"\"\"使用4个进程来读取数据\"\"\"\n",
    "    return 4\n",
    "\n",
    "# 装载数据集到pytorch\n",
    "def load_data_fashion_mnist(batch_size, resize=None):  #@save\n",
    "    \"\"\"下载Fashion-MNIST数据集，然后将其加载到内存中\"\"\"\n",
    "    trans = [transforms.ToTensor()]\n",
    "    if resize:\n",
    "        trans.insert(0, transforms.Resize(resize))\n",
    "    trans = transforms.Compose(trans)\n",
    "    mnist_train = torchvision.datasets.FashionMNIST(\n",
    "        root=\"./data\", train=True, transform=trans, download=True)\n",
    "    mnist_test = torchvision.datasets.FashionMNIST(\n",
    "        root=\"./data\", train=False, transform=trans, download=True)\n",
    "    return (data.DataLoader(mnist_train, batch_size, shuffle=True,\n",
    "                            num_workers=get_dataloader_workers()),\n",
    "            data.DataLoader(mnist_test, batch_size, shuffle=False,\n",
    "                            num_workers=get_dataloader_workers()))\n",
    "\n",
    "# 验证分类结果的正确性\n",
    "def accuracy(y_hat, y):  #@save\n",
    "    \"\"\"计算预测正确的数量\"\"\"\n",
    "    if len(y_hat.shape) > 1 and y_hat.shape[1] > 1:\n",
    "        y_hat = y_hat.argmax(axis=1)\n",
    "    cmp = y_hat.type(y.dtype) == y\n",
    "    return float(cmp.type(y.dtype).sum())\n",
    "\n",
    "def evaluate_accuracy(net, data_iter, device):  #@save\n",
    "    \"\"\"计算在指定数据集上模型的精度\"\"\"\n",
    "    if isinstance(net, torch.nn.Module):\n",
    "        net.eval()  # 将模型设置为评估模式\n",
    "    metric = Accumulator(2)  # 正确预测数、预测总数\n",
    "    with torch.no_grad():\n",
    "        for X, y in data_iter:\n",
    "            X = X.to(device)\n",
    "            y = y.to(device)\n",
    "            metric.add(accuracy(net(X), y), y.numel())\n",
    "    return metric[0] / metric[1]\n",
    "\n",
    "def set_axes(axes, xlabel, ylabel, xlim, ylim, xscale, yscale, legend):\n",
    "    \"\"\"设置matplotlib的轴\"\"\"\n",
    "    axes.set_xlabel(xlabel)\n",
    "    axes.set_ylabel(ylabel)\n",
    "    axes.set_xscale(xscale)\n",
    "    axes.set_yscale(yscale)\n",
    "    axes.set_xlim(xlim)\n",
    "    axes.set_ylim(ylim)\n",
    "    if legend:\n",
    "        axes.legend(legend)\n",
    "    axes.grid()\n",
    "\n",
    "def use_svg_display():  #@save\n",
    "    \"\"\"使用svg格式在Jupyter中显示绘图\"\"\"\n",
    "    backend_inline.set_matplotlib_formats('svg')\n",
    "\n",
    "class Accumulator:  #@save\n",
    "    \"\"\"在n个变量上累加\"\"\"\n",
    "    def __init__(self, n):\n",
    "        self.data = [0.0] * n\n",
    "\n",
    "    def add(self, *args):\n",
    "        self.data = [a + float(b) for a, b in zip(self.data, args)]\n",
    "\n",
    "    def reset(self):\n",
    "        self.data = [0.0] * len(self.data)\n",
    "\n",
    "    def __getitem__(self, idx):\n",
    "        return self.data[idx]\n",
    "\n",
    "# 帮助我们调整训练的结果的画图函数\n",
    "class Animator:  #@save\n",
    "    \"\"\"在动画中绘制数据\"\"\"\n",
    "    def __init__(self, xlabel=None, ylabel=None, legend=None, xlim=None,\n",
    "                 ylim=None, xscale='linear', yscale='linear',\n",
    "                 fmts=('-', 'm--', 'g-.', 'r:'), nrows=1, ncols=1,\n",
    "                 figsize=(3.5, 2.5)):\n",
    "        # 增量地绘制多条线\n",
    "        if legend is None:\n",
    "            legend = []\n",
    "        use_svg_display()\n",
    "        self.fig, self.axes = plt.subplots(nrows, ncols, figsize=figsize)\n",
    "        if nrows * ncols == 1:\n",
    "            self.axes = [self.axes, ]\n",
    "        # 使用lambda函数捕获参数\n",
    "        self.config_axes = lambda: set_axes(\n",
    "            self.axes[0], xlabel, ylabel, xlim, ylim, xscale, yscale, legend)\n",
    "        self.X, self.Y, self.fmts = None, None, fmts\n",
    "\n",
    "    def add(self, x, y):\n",
    "        # 向图表中添加多个数据点\n",
    "        if not hasattr(y, \"__len__\"):\n",
    "            y = [y]\n",
    "        n = len(y)\n",
    "        if not hasattr(x, \"__len__\"):\n",
    "            x = [x] * n\n",
    "        if not self.X:\n",
    "            self.X = [[] for _ in range(n)]\n",
    "        if not self.Y:\n",
    "            self.Y = [[] for _ in range(n)]\n",
    "        for i, (a, b) in enumerate(zip(x, y)):\n",
    "            if a is not None and b is not None:\n",
    "                self.X[i].append(a)\n",
    "                self.Y[i].append(b)\n",
    "        self.axes[0].cla()\n",
    "        for x, y, fmt in zip(self.X, self.Y, self.fmts):\n",
    "            self.axes[0].plot(x, y, fmt)\n",
    "        self.config_axes()\n",
    "        display.display(self.fig)\n",
    "        display.clear_output(wait=True)"
   ]
  },
  {
   "cell_type": "markdown",
   "id": "02319558-236b-49f5-86ae-64dce7daeb55",
   "metadata": {},
   "source": [
    "#### 定义模型 \n",
    "这里我们定义了一个神经网络， 其中神经网络的只有两全连接层。 第一层是隐藏层，它包含256个隐藏单元，并使用了ReLU激活函数。 第二层是输出层。\n",
    "\n",
    "> 注意 Fashion-MNIST 中的数据集是28 × 28 的大小， 所以 28 × 28 = 784 这个神经网络共有 784 个输入特征， 图像分类为10个分类， 所以输出层是10个神经元\n",
    "\n",
    "这段代码除进行模型定义外，还初始化了模型的参数数据"
   ]
  },
  {
   "cell_type": "code",
   "execution_count": null,
   "id": "31f9ca51-997f-47f2-9eb7-4af0fd6509d7",
   "metadata": {},
   "outputs": [],
   "source": [
    "device = torch.device(\"cuda:0\" if torch.cuda.is_available() else \"cpu\")\n",
    "net = nn.Sequential(nn.Flatten(),\n",
    "                    nn.Linear(784, 256),\n",
    "                    nn.ReLU(),\n",
    "                    nn.Linear(256, 10))\n",
    "\n",
    "def init_weights(m):\n",
    "    if type(m) == nn.Linear:\n",
    "        nn.init.normal_(m.weight, std=0.01)\n",
    "\n",
    "net.to(device)\n",
    "net.apply(init_weights);"
   ]
  },
  {
   "cell_type": "markdown",
   "id": "8e28d698-31da-473c-89a6-1a5fef376e5a",
   "metadata": {},
   "source": [
    "#### 使用梯度下降方法进行训练\n",
    "\n",
    "利用pytorch的随机梯度下降的方法进行训练"
   ]
  },
  {
   "cell_type": "code",
   "execution_count": null,
   "id": "762f3daf-b54f-43c6-a719-2d421271473e",
   "metadata": {},
   "outputs": [],
   "source": [
    "lr = 0.1\n",
    "trainer = torch.optim.SGD(net.parameters(), lr=lr)"
   ]
  },
  {
   "cell_type": "markdown",
   "id": "9045c5e6-9670-45ce-8ecd-bd1659360973",
   "metadata": {},
   "source": [
    "#### 定义损失（成本）函数\n",
    "\n",
    "使用交叉熵损失函数来衡量一轮训练后模型参数的结果的好坏"
   ]
  },
  {
   "cell_type": "code",
   "execution_count": null,
   "id": "2d465a26-61eb-43c3-a65b-e0dd52bd2103",
   "metadata": {},
   "outputs": [],
   "source": [
    "loss = nn.CrossEntropyLoss(reduction='none')"
   ]
  },
  {
   "cell_type": "markdown",
   "id": "2ff1a3b3-6784-44a3-91d6-b548e4005dbe",
   "metadata": {},
   "source": [
    "### 通过反向传播进行训练\n",
    "\n",
    "下面的函数定义训练方法，每次训练后， 如果使用的的pytorch的随机梯度下降训练方法，就使用反向传播算法调整参数"
   ]
  },
  {
   "cell_type": "code",
   "execution_count": null,
   "id": "149a80d3-02bb-4ad8-898e-b1a0b62b84ab",
   "metadata": {},
   "outputs": [],
   "source": [
    "def train_epoch(net, train_iter, loss, updater, device):  #@save\n",
    "    \"\"\"训练模型一个迭代周期（定义见第3章）\"\"\"\n",
    "    # 将模型设置为训练模式\n",
    "    if isinstance(net, torch.nn.Module):\n",
    "        net.train()\n",
    "    # 训练损失总和、训练准确度总和、样本数\n",
    "    metric = Accumulator(3)\n",
    "    for X, y in train_iter:\n",
    "        # 计算梯度并更新参数\n",
    "        X = X.to(device)\n",
    "        y = y.to(device)\n",
    "        y_hat = net(X)\n",
    "        l = loss(y_hat, y)\n",
    "        if isinstance(updater, torch.optim.Optimizer):\n",
    "            # 使用PyTorch内置的优化器和损失函数\n",
    "            updater.zero_grad()\n",
    "            l.mean().backward()\n",
    "            updater.step()\n",
    "        else:\n",
    "            # 使用定制的优化器和损失函数\n",
    "            l.sum().backward()\n",
    "            updater(X.shape[0])\n",
    "        metric.add(float(l.sum()), accuracy(y_hat, y), y.numel())\n",
    "    # 返回训练损失和训练精度\n",
    "    return metric[0] / metric[2], metric[1] / metric[2]\n",
    "\n",
    "def train(net, train_iter, test_iter, loss, num_epochs, updater, device):  #@save\n",
    "    \"\"\"训练模型（定义见第3章）\"\"\"\n",
    "    animator = Animator(xlabel='epoch', xlim=[1, num_epochs], ylim=[0.3, 0.9],\n",
    "                        legend=['train loss', 'train acc', 'test acc'])\n",
    "    for epoch in range(num_epochs):\n",
    "        train_metrics = train_epoch(net, train_iter, loss, updater, device)\n",
    "        test_acc = evaluate_accuracy(net, test_iter, device)\n",
    "        animator.add(epoch + 1, train_metrics + (test_acc,))\n",
    "    train_loss, train_acc = train_metrics\n",
    "    assert train_loss < 0.5, train_loss\n",
    "    assert train_acc <= 1 and train_acc > 0.7, train_acc\n",
    "    assert test_acc <= 1 and test_acc > 0.7, test_acc"
   ]
  },
  {
   "cell_type": "markdown",
   "id": "62cc0898-08d5-47b8-a188-a6faab943bc0",
   "metadata": {},
   "source": [
    "### 开始训练"
   ]
  },
  {
   "cell_type": "code",
   "execution_count": null,
   "id": "2844e014-575f-4825-809b-5f3ca0bc0320",
   "metadata": {},
   "outputs": [],
   "source": [
    "#定义批量大小， 训练轮数\n",
    "batch_size,  num_epochs = 256, 10\n",
    "\n",
    "# 装载训练数据急和验证数据集\n",
    "train_iter, test_iter = load_data_fashion_mnist(batch_size)\n",
    "\n",
    "# 训练比展示训练的结果\n",
    "train(net, train_iter, test_iter, loss, num_epochs, trainer, device)"
   ]
  },
  {
   "cell_type": "code",
   "execution_count": null,
   "id": "2ddfe7dd-69ad-48fa-aeb9-41c02db8bd99",
   "metadata": {},
   "outputs": [],
   "source": []
  }
 ],
 "metadata": {
  "kernelspec": {
   "display_name": "Python 3 (ipykernel)",
   "language": "python",
   "name": "python3"
  },
  "language_info": {
   "codemirror_mode": {
    "name": "ipython",
    "version": 3
   },
   "file_extension": ".py",
   "mimetype": "text/x-python",
   "name": "python",
   "nbconvert_exporter": "python",
   "pygments_lexer": "ipython3",
   "version": "3.10.0"
  }
 },
 "nbformat": 4,
 "nbformat_minor": 5
}
